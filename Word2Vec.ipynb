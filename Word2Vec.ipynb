{
 "cells": [
  {
   "cell_type": "markdown",
   "metadata": {},
   "source": [
    "# Tutorial NLP for MIR\n",
    "## Word2Vec\n",
    "We are going to train a simple Word2Vec model using the gensim library. Instead of words, we are going to use artists, and instead of sentences, playlists."
   ]
  },
  {
   "cell_type": "code",
   "execution_count": null,
   "metadata": {
    "collapsed": true
   },
   "outputs": [],
   "source": [
    "import gensim"
   ]
  },
  {
   "cell_type": "markdown",
   "metadata": {},
   "source": [
    "The data comes from a dataset of user-contributed playlists from the Art of the Mix web site from January 2003, compiled by Labrosa http://labrosa.ee.columbia.edu/projects/musicsim/aotm.html\n",
    "\n",
    "We first create a dictionary from artist id to artist name, to convert the playlists files of artists ids into playlists of artists names, to make the example more easily understandable. "
   ]
  },
  {
   "cell_type": "code",
   "execution_count": null,
   "metadata": {
    "collapsed": false
   },
   "outputs": [],
   "source": [
    "id2artist = dict()\n",
    "f=open('playlists_dataset/artist.hash')\n",
    "for line in f.readlines():\n",
    "    artist,id = line.strip().split('#')\n",
    "    if id.isdigit():\n",
    "        id2artist[id] = artist\n",
    "\n",
    "f=open('playlists_dataset/aset400-aotmhash.txt')\n",
    "for line in f.readlines():\n",
    "    artist,id = line.strip().split('#')\n",
    "    if id.isdigit():\n",
    "        id2artist[id] = artist"
   ]
  },
  {
   "cell_type": "markdown",
   "metadata": {},
   "source": [
    "Using the created dictionary the playlists are converted to lists of artists names. There is a total number of 28,963 playlists."
   ]
  },
  {
   "cell_type": "code",
   "execution_count": null,
   "metadata": {
    "collapsed": false
   },
   "outputs": [],
   "source": [
    "sentences = []\n",
    "f=open('playlists_dataset/aotm_artist_lists.txt')\n",
    "for line in f.readlines():\n",
    "    playlist = line.strip().split()\n",
    "    sentences.append(list(map((lambda x: id2artist[x]), playlist)))\n",
    "print len(sentences)"
   ]
  },
  {
   "cell_type": "markdown",
   "metadata": {},
   "source": [
    "We train the word2vec model with gensim, with window size of 10, and 100 dimensions for the embeddings. Window size may be changed and the embeddings change considerably."
   ]
  },
  {
   "cell_type": "code",
   "execution_count": null,
   "metadata": {
    "collapsed": true
   },
   "outputs": [],
   "source": [
    "model = gensim.models.Word2Vec(sentences, size=100, window=10, min_count=5, workers=4)\n",
    "model.save('artists_playlists.model')"
   ]
  },
  {
   "cell_type": "markdown",
   "metadata": {},
   "source": [
    "Once the model is trained, we check some lists of top-10 most similar artists."
   ]
  },
  {
   "cell_type": "code",
   "execution_count": null,
   "metadata": {
    "collapsed": false
   },
   "outputs": [],
   "source": [
    "model.most_similar('miles davis')"
   ]
  },
  {
   "cell_type": "code",
   "execution_count": null,
   "metadata": {
    "collapsed": false
   },
   "outputs": [],
   "source": [
    "model.most_similar('marilyn manson')"
   ]
  },
  {
   "cell_type": "code",
   "execution_count": null,
   "metadata": {
    "collapsed": false
   },
   "outputs": [],
   "source": [
    "model.most_similar('nirvana')"
   ]
  },
  {
   "cell_type": "markdown",
   "metadata": {},
   "source": [
    "Finding the odd"
   ]
  },
  {
   "cell_type": "code",
   "execution_count": null,
   "metadata": {
    "collapsed": false
   },
   "outputs": [],
   "source": [
    "model.doesnt_match(['marilyn manson','metallica','korn','ricky martin'])"
   ]
  },
  {
   "cell_type": "code",
   "execution_count": null,
   "metadata": {
    "collapsed": false
   },
   "outputs": [],
   "source": [
    "model['nirvana']"
   ]
  },
  {
   "cell_type": "code",
   "execution_count": null,
   "metadata": {
    "collapsed": true
   },
   "outputs": [],
   "source": []
  }
 ],
 "metadata": {
  "anaconda-cloud": {},
  "kernelspec": {
   "display_name": "Python [nlp]",
   "language": "python",
   "name": "Python [nlp]"
  },
  "language_info": {
   "codemirror_mode": {
    "name": "ipython",
    "version": 2
   },
   "file_extension": ".py",
   "mimetype": "text/x-python",
   "name": "python",
   "nbconvert_exporter": "python",
   "pygments_lexer": "ipython2",
   "version": "2.7.12"
  }
 },
 "nbformat": 4,
 "nbformat_minor": 0
}
